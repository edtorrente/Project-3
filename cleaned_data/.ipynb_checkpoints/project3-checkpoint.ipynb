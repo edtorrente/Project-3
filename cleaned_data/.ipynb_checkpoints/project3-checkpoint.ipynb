{
 "cells": [
  {
   "cell_type": "markdown",
   "id": "92a28cd3",
   "metadata": {},
   "source": [
    "# Import all necessary libraries"
   ]
  },
  {
   "cell_type": "code",
   "execution_count": 4,
   "id": "09977d4f",
   "metadata": {},
   "outputs": [],
   "source": [
    "import pandas as pd \n",
    "import matplotlib.pyplot as plt \n",
    "import numpy as np \n",
    "import random\n",
    "# Dependencies and Setup\n",
    "# SQL Alchemy\n",
    "from sqlalchemy import create_engine"
   ]
  },
  {
   "cell_type": "code",
   "execution_count": 5,
   "id": "2d0074a5",
   "metadata": {},
   "outputs": [],
   "source": [
    "# Python SQL toolkit and Object Relational Mapper\n",
    "import sqlalchemy\n",
    "from sqlalchemy.ext.automap import automap_base\n",
    "from sqlalchemy.orm import Session\n",
    "from sqlalchemy import create_engine, func, MetaData, PrimaryKeyConstraint\n",
    "\n",
    "from sqlalchemy import create_engine, Column, Integer, String\n",
    "from sqlalchemy.orm import relationship\n",
    "from sqlalchemy.ext.declarative import declarative_base\n",
    "import sqlite3"
   ]
  },
  {
   "cell_type": "markdown",
   "id": "3c676e65",
   "metadata": {},
   "source": [
    "# Load and clean data set\n",
    "## EV charging station by location"
   ]
  },
  {
   "cell_type": "code",
   "execution_count": 6,
   "id": "ff5513b2",
   "metadata": {
    "scrolled": true
   },
   "outputs": [
    {
     "name": "stderr",
     "output_type": "stream",
     "text": [
      "/Users/edtorrente/opt/anaconda3/lib/python3.8/site-packages/IPython/core/interactiveshell.py:3437: DtypeWarning: Columns (6,20) have mixed types.Specify dtype option on import or set low_memory=False.\n",
      "  exec(code_obj, self.user_global_ns, self.user_ns)\n"
     ]
    },
    {
     "data": {
      "text/html": [
       "<div>\n",
       "<style scoped>\n",
       "    .dataframe tbody tr th:only-of-type {\n",
       "        vertical-align: middle;\n",
       "    }\n",
       "\n",
       "    .dataframe tbody tr th {\n",
       "        vertical-align: top;\n",
       "    }\n",
       "\n",
       "    .dataframe thead th {\n",
       "        text-align: right;\n",
       "    }\n",
       "</style>\n",
       "<table border=\"1\" class=\"dataframe\">\n",
       "  <thead>\n",
       "    <tr style=\"text-align: right;\">\n",
       "      <th></th>\n",
       "      <th>Fuel Type Code</th>\n",
       "      <th>Station Name</th>\n",
       "      <th>Street Address</th>\n",
       "      <th>Intersection Directions</th>\n",
       "      <th>City</th>\n",
       "      <th>State</th>\n",
       "      <th>ZIP</th>\n",
       "      <th>Plus4</th>\n",
       "      <th>Station Phone</th>\n",
       "      <th>Status Code</th>\n",
       "      <th>...</th>\n",
       "      <th>EV Pricing (French)</th>\n",
       "      <th>LPG Nozzle Types</th>\n",
       "      <th>Hydrogen Pressures</th>\n",
       "      <th>Hydrogen Standards</th>\n",
       "      <th>CNG Fill Type Code</th>\n",
       "      <th>CNG PSI</th>\n",
       "      <th>CNG Vehicle Class</th>\n",
       "      <th>LNG Vehicle Class</th>\n",
       "      <th>EV On-Site Renewable Source</th>\n",
       "      <th>Restricted Access</th>\n",
       "    </tr>\n",
       "  </thead>\n",
       "  <tbody>\n",
       "    <tr>\n",
       "      <th>0</th>\n",
       "      <td>ELEC</td>\n",
       "      <td>LADWP - Truesdale Center</td>\n",
       "      <td>11797 Truesdale St</td>\n",
       "      <td>NaN</td>\n",
       "      <td>Sun Valley</td>\n",
       "      <td>CA</td>\n",
       "      <td>91352</td>\n",
       "      <td>NaN</td>\n",
       "      <td>NaN</td>\n",
       "      <td>E</td>\n",
       "      <td>...</td>\n",
       "      <td>NaN</td>\n",
       "      <td>NaN</td>\n",
       "      <td>NaN</td>\n",
       "      <td>NaN</td>\n",
       "      <td>NaN</td>\n",
       "      <td>NaN</td>\n",
       "      <td>NaN</td>\n",
       "      <td>NaN</td>\n",
       "      <td>NaN</td>\n",
       "      <td>NaN</td>\n",
       "    </tr>\n",
       "    <tr>\n",
       "      <th>1</th>\n",
       "      <td>ELEC</td>\n",
       "      <td>LADWP - West LA District Office</td>\n",
       "      <td>1394 S Sepulveda Blvd</td>\n",
       "      <td>NaN</td>\n",
       "      <td>Los Angeles</td>\n",
       "      <td>CA</td>\n",
       "      <td>90024</td>\n",
       "      <td>NaN</td>\n",
       "      <td>NaN</td>\n",
       "      <td>E</td>\n",
       "      <td>...</td>\n",
       "      <td>NaN</td>\n",
       "      <td>NaN</td>\n",
       "      <td>NaN</td>\n",
       "      <td>NaN</td>\n",
       "      <td>NaN</td>\n",
       "      <td>NaN</td>\n",
       "      <td>NaN</td>\n",
       "      <td>NaN</td>\n",
       "      <td>NaN</td>\n",
       "      <td>NaN</td>\n",
       "    </tr>\n",
       "    <tr>\n",
       "      <th>2</th>\n",
       "      <td>ELEC</td>\n",
       "      <td>Los Angeles Convention Center</td>\n",
       "      <td>1201 S Figueroa St</td>\n",
       "      <td>West hall and South hall</td>\n",
       "      <td>Los Angeles</td>\n",
       "      <td>CA</td>\n",
       "      <td>90015</td>\n",
       "      <td>NaN</td>\n",
       "      <td>213-741-1151</td>\n",
       "      <td>E</td>\n",
       "      <td>...</td>\n",
       "      <td>NaN</td>\n",
       "      <td>NaN</td>\n",
       "      <td>NaN</td>\n",
       "      <td>NaN</td>\n",
       "      <td>NaN</td>\n",
       "      <td>NaN</td>\n",
       "      <td>NaN</td>\n",
       "      <td>NaN</td>\n",
       "      <td>NaN</td>\n",
       "      <td>NaN</td>\n",
       "    </tr>\n",
       "    <tr>\n",
       "      <th>3</th>\n",
       "      <td>ELEC</td>\n",
       "      <td>LADWP - John Ferraro Building</td>\n",
       "      <td>111 N Hope St</td>\n",
       "      <td>Across Hope</td>\n",
       "      <td>Los Angeles</td>\n",
       "      <td>CA</td>\n",
       "      <td>90012</td>\n",
       "      <td>NaN</td>\n",
       "      <td>NaN</td>\n",
       "      <td>E</td>\n",
       "      <td>...</td>\n",
       "      <td>NaN</td>\n",
       "      <td>NaN</td>\n",
       "      <td>NaN</td>\n",
       "      <td>NaN</td>\n",
       "      <td>NaN</td>\n",
       "      <td>NaN</td>\n",
       "      <td>NaN</td>\n",
       "      <td>NaN</td>\n",
       "      <td>NaN</td>\n",
       "      <td>NaN</td>\n",
       "    </tr>\n",
       "    <tr>\n",
       "      <th>4</th>\n",
       "      <td>ELEC</td>\n",
       "      <td>LADWP - Haynes Power Plant</td>\n",
       "      <td>6801 E 2nd St</td>\n",
       "      <td>NaN</td>\n",
       "      <td>Long Beach</td>\n",
       "      <td>CA</td>\n",
       "      <td>90803</td>\n",
       "      <td>NaN</td>\n",
       "      <td>NaN</td>\n",
       "      <td>E</td>\n",
       "      <td>...</td>\n",
       "      <td>NaN</td>\n",
       "      <td>NaN</td>\n",
       "      <td>NaN</td>\n",
       "      <td>NaN</td>\n",
       "      <td>NaN</td>\n",
       "      <td>NaN</td>\n",
       "      <td>NaN</td>\n",
       "      <td>NaN</td>\n",
       "      <td>NaN</td>\n",
       "      <td>NaN</td>\n",
       "    </tr>\n",
       "  </tbody>\n",
       "</table>\n",
       "<p>5 rows × 65 columns</p>\n",
       "</div>"
      ],
      "text/plain": [
       "  Fuel Type Code                     Station Name         Street Address  \\\n",
       "0           ELEC         LADWP - Truesdale Center     11797 Truesdale St   \n",
       "1           ELEC  LADWP - West LA District Office  1394 S Sepulveda Blvd   \n",
       "2           ELEC    Los Angeles Convention Center     1201 S Figueroa St   \n",
       "3           ELEC    LADWP - John Ferraro Building          111 N Hope St   \n",
       "4           ELEC       LADWP - Haynes Power Plant          6801 E 2nd St   \n",
       "\n",
       "    Intersection Directions         City State    ZIP  Plus4 Station Phone  \\\n",
       "0                       NaN   Sun Valley    CA  91352    NaN           NaN   \n",
       "1                       NaN  Los Angeles    CA  90024    NaN           NaN   \n",
       "2  West hall and South hall  Los Angeles    CA  90015    NaN  213-741-1151   \n",
       "3               Across Hope  Los Angeles    CA  90012    NaN           NaN   \n",
       "4                       NaN   Long Beach    CA  90803    NaN           NaN   \n",
       "\n",
       "  Status Code  ... EV Pricing (French) LPG Nozzle Types Hydrogen Pressures  \\\n",
       "0           E  ...                 NaN              NaN                NaN   \n",
       "1           E  ...                 NaN              NaN                NaN   \n",
       "2           E  ...                 NaN              NaN                NaN   \n",
       "3           E  ...                 NaN              NaN                NaN   \n",
       "4           E  ...                 NaN              NaN                NaN   \n",
       "\n",
       "  Hydrogen Standards  CNG Fill Type Code  CNG PSI  CNG Vehicle Class  \\\n",
       "0                NaN                 NaN      NaN                NaN   \n",
       "1                NaN                 NaN      NaN                NaN   \n",
       "2                NaN                 NaN      NaN                NaN   \n",
       "3                NaN                 NaN      NaN                NaN   \n",
       "4                NaN                 NaN      NaN                NaN   \n",
       "\n",
       "   LNG Vehicle Class  EV On-Site Renewable Source  Restricted Access  \n",
       "0                NaN                          NaN                NaN  \n",
       "1                NaN                          NaN                NaN  \n",
       "2                NaN                          NaN                NaN  \n",
       "3                NaN                          NaN                NaN  \n",
       "4                NaN                          NaN                NaN  \n",
       "\n",
       "[5 rows x 65 columns]"
      ]
     },
     "execution_count": 6,
     "metadata": {},
     "output_type": "execute_result"
    }
   ],
   "source": [
    "stations_df = pd.read_csv('../data/alt_fuel_stations.csv')\n",
    "stations_df.head()"
   ]
  },
  {
   "cell_type": "code",
   "execution_count": 7,
   "id": "c58bc06f",
   "metadata": {
    "scrolled": true
   },
   "outputs": [
    {
     "data": {
      "text/plain": [
       "Index(['Fuel Type Code', 'Station Name', 'Street Address',\n",
       "       'Intersection Directions', 'City', 'State', 'ZIP', 'Plus4',\n",
       "       'Station Phone', 'Status Code', 'Expected Date',\n",
       "       'Groups With Access Code', 'Access Days Time', 'Cards Accepted',\n",
       "       'BD Blends', 'NG Fill Type Code', 'NG PSI', 'EV Level1 EVSE Num',\n",
       "       'EV Level2 EVSE Num', 'EV DC Fast Count', 'EV Other Info', 'EV Network',\n",
       "       'EV Network Web', 'Geocode Status', 'Latitude', 'Longitude',\n",
       "       'Date Last Confirmed', 'ID', 'Updated At', 'Owner Type Code',\n",
       "       'Federal Agency ID', 'Federal Agency Name', 'Open Date',\n",
       "       'Hydrogen Status Link', 'NG Vehicle Class', 'LPG Primary',\n",
       "       'E85 Blender Pump', 'EV Connector Types', 'Country',\n",
       "       'Intersection Directions (French)', 'Access Days Time (French)',\n",
       "       'BD Blends (French)', 'Groups With Access Code (French)',\n",
       "       'Hydrogen Is Retail', 'Access Code', 'Access Detail Code',\n",
       "       'Federal Agency Code', 'Facility Type', 'CNG Dispenser Num',\n",
       "       'CNG On-Site Renewable Source', 'CNG Total Compression Capacity',\n",
       "       'CNG Storage Capacity', 'LNG On-Site Renewable Source',\n",
       "       'E85 Other Ethanol Blends', 'EV Pricing', 'EV Pricing (French)',\n",
       "       'LPG Nozzle Types', 'Hydrogen Pressures', 'Hydrogen Standards',\n",
       "       'CNG Fill Type Code', 'CNG PSI', 'CNG Vehicle Class',\n",
       "       'LNG Vehicle Class', 'EV On-Site Renewable Source',\n",
       "       'Restricted Access'],\n",
       "      dtype='object')"
      ]
     },
     "execution_count": 7,
     "metadata": {},
     "output_type": "execute_result"
    }
   ],
   "source": [
    "stations_df.columns"
   ]
  },
  {
   "cell_type": "code",
   "execution_count": 8,
   "id": "d3a249e7",
   "metadata": {},
   "outputs": [],
   "source": [
    "# keep only wanted columns & Reorder - make ID column first\n",
    "stations_df = stations_df[['ID','Station Name','Street Address','City','State','ZIP','Station Phone','Status Code',\n",
    "                           'Groups With Access Code','Access Days Time','Geocode Status',\n",
    "       'Latitude', 'Longitude','Open Date','EV Connector Types','Access Code', 'Facility Type', 'EV Pricing']]"
   ]
  },
  {
   "cell_type": "code",
   "execution_count": null,
   "id": "a62b6559",
   "metadata": {},
   "outputs": [],
   "source": [
    "# Rename column names\n",
    "stations_df.rename(columns={'ID': 'id', 'Station Name':'station_name', 'Street Address': 'street_address',\n",
    "                            'City': 'city', 'State': 'state','ZIP': 'zip','Station Phone': 'station_phone',\n",
    "                            'Status Code': 'status_code', 'Groups With Access Code': 'groups_access_code', \n",
    "                            'Access Days Time': 'access_days_time', 'Geocode Status': 'geocode status',\n",
    "                            'Latitude': 'latitude', 'Longitude': 'longitude','Open Date':'open_date','EV Connector Types':'ev_connector_types',\n",
    "                            'Access Code':'access_code', 'Facility Type':'facility_type' , 'EV Pricing':'ev_pricing'\n",
    "                            }, inplace=True)"
   ]
  },
  {
   "cell_type": "code",
   "execution_count": null,
   "id": "fc09a928",
   "metadata": {},
   "outputs": [],
   "source": [
    "stations_df.head()"
   ]
  },
  {
   "cell_type": "code",
   "execution_count": null,
   "id": "efdd1ef1",
   "metadata": {},
   "outputs": [],
   "source": [
    "print(stations_df.columns)"
   ]
  },
  {
   "cell_type": "code",
   "execution_count": null,
   "id": "1f05660d",
   "metadata": {},
   "outputs": [],
   "source": [
    "stations_df.fillna(0)"
   ]
  },
  {
   "cell_type": "code",
   "execution_count": null,
   "id": "c5e7adbf",
   "metadata": {},
   "outputs": [],
   "source": [
    "stations_df.size"
   ]
  },
  {
   "cell_type": "code",
   "execution_count": null,
   "id": "1471110e",
   "metadata": {},
   "outputs": [],
   "source": [
    "stations_df.describe()"
   ]
  },
  {
   "cell_type": "markdown",
   "id": "aeaedc3b",
   "metadata": {},
   "source": [
    "## use web scrape to see how average temperatures in different regions have increased over time"
   ]
  },
  {
   "cell_type": "code",
   "execution_count": null,
   "id": "7a5bc054",
   "metadata": {
    "scrolled": true
   },
   "outputs": [],
   "source": [
    "url = 'https://science2017.globalchange.gov/chapter/6/'\n",
    "table = pd.read_html(url)\n",
    "temp_df = table[2]\n",
    "temp_df"
   ]
  },
  {
   "cell_type": "code",
   "execution_count": null,
   "id": "45616c01",
   "metadata": {},
   "outputs": [],
   "source": [
    "## convert tabulated data to html if needed\n",
    "\n",
    "temp_table = temp_df.to_html()"
   ]
  },
  {
   "cell_type": "code",
   "execution_count": null,
   "id": "22c49d1a",
   "metadata": {},
   "outputs": [],
   "source": [
    "# Store filepath in a variable\n",
    "#station_file = \"Resources/DataOne.csv\"\n",
    "carbon_dioxide_file = '../project-3/data/us_and_world_co2_emission.csv'"
   ]
  },
  {
   "cell_type": "code",
   "execution_count": null,
   "id": "5ff1c007",
   "metadata": {},
   "outputs": [],
   "source": [
    "carbon_dioxide_df.columns"
   ]
  },
  {
   "cell_type": "code",
   "execution_count": null,
   "id": "c78edc31",
   "metadata": {},
   "outputs": [],
   "source": [
    "carbon_dioxide_df.rename(columns={'ï»¿ENTITY':'ENTITY'},inplace=True)"
   ]
  },
  {
   "cell_type": "code",
   "execution_count": null,
   "id": "a4bc0ab3",
   "metadata": {},
   "outputs": [],
   "source": [
    "# Read our Data file with the pandas library\n",
    "# Not every CSV requires an encoding, but be aware this can come up\n",
    "carbon_dioxide_df = pd.read_csv(carbon_dioxide_file, encoding=\"ISO-8859-1\")"
   ]
  },
  {
   "cell_type": "code",
   "execution_count": null,
   "id": "5e725851",
   "metadata": {
    "scrolled": true
   },
   "outputs": [],
   "source": [
    "## load states CO2 emission\n",
    "\n",
    "US_co2 = carbon_dioxide_df.loc[carbon_dioxide_df[\"ENTITY\"] == \"United States\"]\n",
    "US_co2_df = US_co2.tail(30)\n",
    "US_co2_df"
   ]
  },
  {
   "cell_type": "code",
   "execution_count": null,
   "id": "073f6f9e",
   "metadata": {},
   "outputs": [],
   "source": [
    "states_co2 = \"../data/StatesCO2_emission.csv\"\n",
    "##states_co2 = pd.read_csv(states_co2, error_bad_lines=False)\n",
    "states_co2"
   ]
  },
  {
   "cell_type": "code",
   "execution_count": null,
   "id": "eda1009c",
   "metadata": {},
   "outputs": [],
   "source": [
    "engine = create_engine(\"sqlite:///data/db.sqlite\")\n",
    "\n",
    "meta = MetaData()\n",
    "meta.drop_all(engine)"
   ]
  },
  {
   "cell_type": "code",
   "execution_count": null,
   "id": "65bdaac8",
   "metadata": {},
   "outputs": [],
   "source": []
  }
 ],
 "metadata": {
  "kernelspec": {
   "display_name": "Python 3",
   "language": "python",
   "name": "python3"
  },
  "language_info": {
   "codemirror_mode": {
    "name": "ipython",
    "version": 3
   },
   "file_extension": ".py",
   "mimetype": "text/x-python",
   "name": "python",
   "nbconvert_exporter": "python",
   "pygments_lexer": "ipython3",
   "version": "3.8.2"
  }
 },
 "nbformat": 4,
 "nbformat_minor": 5
}
